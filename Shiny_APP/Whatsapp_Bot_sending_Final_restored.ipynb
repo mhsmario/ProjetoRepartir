{
 "cells": [
  {
   "cell_type": "markdown",
   "metadata": {},
   "source": [
    "<h1>Automate message sending to Whatsapp users</h1>"
   ]
  },
  {
   "cell_type": "markdown",
   "metadata": {},
   "source": [
    "<h2> 1. Important Libraries </h2>"
   ]
  },
  {
   "cell_type": "code",
   "execution_count": 1,
   "metadata": {},
   "outputs": [],
   "source": [
    "from selenium import webdriver\n",
    "from selenium.webdriver.support.ui import WebDriverWait\n",
    "from selenium.webdriver.support import expected_conditions as EC\n",
    "from selenium.webdriver.common.keys import Keys\n",
    "from selenium.webdriver.common.by import By\n",
    "import time\n",
    "import sys\n",
    "import pandas as pd\n",
    "from pandas import DataFrame\n",
    "from selenium.common.exceptions import NoSuchElementException\n",
    "from selenium.common.exceptions import WebDriverException\n",
    "from selenium.common.exceptions import ElementNotInteractableException"
   ]
  },
  {
   "cell_type": "markdown",
   "metadata": {},
   "source": [
    "<h2> 2. Run the code </h2>"
   ]
  },
  {
   "cell_type": "markdown",
   "metadata": {},
   "source": [
    "<h4> Whatsapp sessions tend to update their class titles and xpath locations, if you encounter an error use the \" inspect\" tool on Chrome to find the updated values. <h4>"
   ]
  },
  {
   "cell_type": "code",
   "execution_count": 2,
   "metadata": {},
   "outputs": [],
   "source": [
    "driver = webdriver.Chrome('/Users/mariosaraiva/Documents/DataScience/Whatsapp_Automation/chromedriver')\n",
    "driver.get('https://web.whatsapp.com/')"
   ]
  },
  {
   "cell_type": "code",
   "execution_count": 4,
   "metadata": {
    "scrolled": false
   },
   "outputs": [
    {
     "name": "stdout",
     "output_type": "stream",
     "text": [
      "Enter anything after scanning QR code\n",
      "Oh no! Error 2: Maria Irandir Souza Rocha\n"
     ]
    }
   ],
   "source": [
    "##FINAL VERSION\n",
    "\n",
    "#### 1. Pedindo Localização####\n",
    "#msg1 = \"Olá, quem fala é do Projeto Repartir (da igreja IIR Brasil)! Vimos que você preencheu o nosso formulário pedindo uma cesta básica. Estamos trabalhando para fazer isso acontecer. \"\n",
    "#msg2 = \"Você pode nos ajudar enviando a localização fixa da sua casa, por favor?\"\n",
    "#msg3 = \"Como são muitas entregas, isso nos ajuda muito! As entregas são feitas aos finais de semana e te aviso quando chegar a sua vez, ok? Sem a sua resposta, talvez sua entrega atrase.\" \n",
    "\n",
    "#msg1 = \"Olá, quem fala é do Projeto Repartir (da igreja IIR Brasil)! Vimos que você preencheu o nosso formulário pedindo uma cesta básica. \"\n",
    "#msg2 = \"Tentamos entregar a sua cesta mas não achamos o seu endereço e/ou não conseguimos contato.\"\n",
    "#msg3 = \"Tentaremos novamente em breve. Mas preciso que nos ajude.\" \n",
    "\n",
    "#### 2. Avisando da Entrega####\n",
    "#msg1 = \"Olá, aqui é do Projeto Repartir. Boas noticias! Voce foi incluido nas entregas de amanhã! As entregas acontecem entre as 10h - 15hrs\"\n",
    "#msg2 = \"--> Por favor *fique atenta(o) ao celular*. As equipes entrarão em contato diretamente com você para confirmar o horário da entrega e o local. São muitas entregas e se não conseguirmos falar com voce antes não entregaremos a sua cesta. \"\n",
    "#msg3 = \"Dica --> Não se esquece de carregar o celular e tira-lo do silencioso.\" \n",
    "\n",
    "#### 3. Divulgação do Culto Online ####\n",
    "#msg1 = 'Feliz Pascoa! Jesus está vivo! '\n",
    "#msg2 = 'Não percar agora nosso culto de pascoa ao vivo. Segue o link do canal do youtube IIRBRASIL'\n",
    "#msg3 = 'https://www.youtube.com/watch?v=vgmPfg8rTBE'\n",
    "\n",
    "####Target Users###\n",
    "#SABADO\n",
    "\"Regiane Pereira Lopes\",\"Juçaria de souza santos\",\"Antônia Gardênia Brandão dos santos\",\"Marinalva Alves Santiago\",\"Pedro Castro Sobrinho\",\"islane Silva sacerdote\",\"FRANCILLANIA Brandao lima\",\"Camila de Oliveira Silva\",\"Maria sandia Alves caetano\",\"Larissa Neres pereira\",\"Joana dos santos guedes\",\"Lindalci Freitas de Sousa\",\"Ruth clea dos santos alves\",\"Aléxia Klimontovics Silva\",\"Railane santos costa\",\"Marta Santos da Silva\",\"Letícia Vieira da Silva\",\"Leila Brasília Alves da Silva\",\"Gerciane da Silva Rodrigues\",\"Orlando Alves Martins\",\"Gabriella Maria Bezerra de Oliveira\",\"Eliuma de Oliveira Caitano\",\"Maria de Fátima dos santos\",\"Ana Paula de Oliveira Dourado\",\"Ivana Moraes Pinheiro\",\"Mônica Ferreira matias\",\"Thais Amarante silva\",\"Ruth Do Nascimento Silva Barros\",\"Jennifer Goncalves cristovao\",\"Andresiele Silva Sousa\",\"Marly Fátima da Silva França\",\"Fabiana dos Santos dias\",\"Elisângela de oliveira leite\",\"Ana Flavia lopes cabral\",\"Cleidima bezerra dos Santos\",\"Maria Nayara Feitosa da Silva\",\"Jaqueline Roseno dos Santos\",\"Adriana Ribeiro de Oliveira\",\"Regio lenio pereira lopes\",\"Rita de Cassia Rodrigues Mesquita\",\"Fabiana Sousa dos Reis\",\"Rosalina Alves Rodrigues\",\"Aline Duarte Dias\",\n",
    "\n",
    "#[Capela St.Luzia]\n",
    "\"Maria Deuselina Alves Lopes\",\"Odelio Alves Lourenço\",\"Edna pereira peixoto\",\"Darlene da Conceição Araújo\",\"Ilma Duarte Correia\",\"Jaqueline Duarte Correia\",\"Ilda Dias dos Santos\",\"Luciana Conceição Silva Silva\",\"Lorrany Dias da Luiz\",\"Patricia batista barbosa\",\"Erica Oliveora Sales Souxa\",\n",
    "\n",
    "#[Capital Reciclagem]\n",
    "\"Camilly Vitória Gomes de Souza\",\"Ana Maria Araújo Costa\",\"Marilene de souza da silva\",\"Francileide de souza da silva\",\"Aline Beatriz da Conceição charneski\",\"Cleidia Moreira De Jesus\",\"Ana Paula dos santos ramos nascimento\",\"Elizabete dos santos da Conceição\",\"Alessandra Borges bispo\",\"Josemária de jesus gomes\",\"Mikaellen Souza de Barros\",\"Andreia dos santos ribeiro\",\"Ana Raquel Amarante da Silva\",\"Kessia Cristina Viegas Soares\",\"Célia Regina Viegas Soares\",\"Flávia Ferreira de Sousa\",\"Fabiana Cristina Pereira Dutra\",\"Neusa Moreira De Jesus\",\"Maria de Fátima da Conceição Sousa\",\"Joelma Bertolda dos Anjos\",\"Simone kelly pereira dutra\",\"Maria neta dos Reis\",\"Eliete Pereira dos santos Dias\",\"Elenilde Trindade Nogueira\",\n",
    "\n",
    "#Ceilandia\n",
    "\"Maria Irandir Souza Rocha\",\"Luana Rodrigues Vieira\",\"Barbara Letícia Vicente da Silva\",\"ANA PAULA VICENTE DA SILVA\",\"Karla Kristina Rodrigues de Moura\",\"Dheny de Paula Dias Sousa\",\"Valdineia Costa Andrade\",\n",
    "\n",
    "#DOMINGO\n",
    "\"Marinilda Cavalcante de Lima\",\"Brunna pereira da silva\",\"Paulo lirenço de jesus\",\"Emanoel Roberto Marques da Silva\",\"Maria do amparo Nascimento Gonçalves\",\"LIA MARA RODRIGUES DA SILVA\",\"Luciana correia da silva\",\"Rosineide silva do nascimento\",\"Antonia da Silva\",\"Simone Rodrigues de Oliveira\",\"Maria de Fátima de Sousa Dutra\",\"Dayane Coutinho da Silva\",\"Maria do Carmo Cassiano domingos\",\"JuliPINHEIRO DOS Santos\",\"Justina inês cenci Stuk\",\"Aline Souza Barros\",\"Cleunice de Oliveira Silva\",\"Vivyan Steice Da Silva Nascimento\",\"Rodrigo vilela da silva Feliciano\",\"Amélia Terezinha de Oliveira\",\"Jessica Mendonça Silva\",\"Fernanda Kathleen Ferreira de Matos\",\"jhenifer da silva lamarca\",\"Daychuany\",\"Silvina Eva da Silva\",\"Denise Ribeiro de Souza\",\"Layslane Ramos Bezerra\",\"Rebeca marcelo barros\",\"Marcelo Henrique Barbosa Rocha\",\"Deyse Nazareth Araújo dos Santos Rodrigues\",\"Rosilene José da Silva\",\"Vanessa Lorrany Sousa do Nascimento\",\"Stefanne Lorranne Dos Santos Sena\",\"Steffane Rauane dos santos mesquita\",\"Bruna Gleisse Araujo Da Silva\",\"Tatiana dos santos\",\"Gleicianne Alves Da Cruz\",\"Caroline Wictoria Lima dos Santos\",\"João Vitor da Silva Martins\",\"Luanna Furtado Fanaia Lima\",\"Gleiciane Pereira dos Santos\",\n",
    "\n",
    "###########\n",
    "\n",
    "name = [\"Camilly Vitória Gomes de Souza\",\"Ana Maria Araújo Costa\",\"Marilene de souza da silva\",\"Francileide de souza da silva\",\"Aline Beatriz da Conceição charneski\",\"Cleidia Moreira De Jesus\",\"Ana Paula dos santos ramos nascimento\",\"Elizabete dos santos da Conceição\",\"Alessandra Borges bispo\",\"Josemária de jesus gomes\",\"Mikaellen Souza de Barros\",\"Andreia dos santos ribeiro\",\"Ana Raquel Amarante da Silva\",\"Kessia Cristina Viegas Soares\",\"Célia Regina Viegas Soares\",\"Flávia Ferreira de Sousa\",\"Fabiana Cristina Pereira Dutra\",\"Neusa Moreira De Jesus\",\"Maria de Fátima da Conceição Sousa\",\"Joelma Bertolda dos Anjos\",\"Simone kelly pereira dutra\",\"Maria neta dos Reis\",\"Eliete Pereira dos santos Dias\",\"Elenilde Trindade Nogueira\"]\n",
    "    \n",
    "msg1 = \"Olá, aqui é do Projeto Repartir. Daqui a pouco as equipes estão saindo da igreja.\"\n",
    "msg2 = \"Temos poucos voluntários, logo é preciso que voce vá até o ponto de encontro. Seu ponto de encontro será na \"\n",
    "msg3 = \"\" \n",
    "\n",
    "#Error\n",
    "\n",
    "input('Enter anything after scanning QR code')\n",
    "\n",
    "for i in (name):\n",
    "    #Use the search bar to find the contact, search by FULL NAME only\n",
    "    newmsg = driver.find_element_by_class_name('_2w7RB') \n",
    "    newmsg.click()\n",
    "    #side > div.SgIJV > div > button > div._1rPZq._2w7RB > span\n",
    "    find = driver.find_element_by_xpath('//*[@id=\"side\"]/div[1]/div/label/div/div[2]')  \n",
    "    find.send_keys(i)\n",
    "    #_2Evw0 _22PcK\n",
    "    #find = driver.find_element_by_class_name('_2EoyP') \n",
    "    #find.send_keys(i)\n",
    "    \n",
    "    time.sleep(1.8) #This is KEY to wait for the button to appear\n",
    "    #pane-side > div:nth-child(1) > div > div > div:nth-child(2) > div > div > div > div.TbtXF > div._2pkLM > div._3Dr46 > span > span\n",
    "    \n",
    "    #Click on the contact you found\n",
    "    #user = driver.find_element_by_xpath('//span[@title = \"{}\"]'.format(i))\n",
    "    try:\n",
    "        user = driver.find_element_by_class_name('_2GAT7') \n",
    "        time.sleep(1) #To avoid going too fast...  \n",
    "    \n",
    "        user.click()    \n",
    "    \n",
    "    except NoSuchElementException as ex:  #spelling error making this code not work as expected\n",
    "        print('Oh no! Error 2:', i)\n",
    "        continue\n",
    "        \n",
    "    except ElementNotInteractableException:\n",
    "        print(\"Oh no! Not interactable.\")\n",
    "        print('Error 3',i)\n",
    "        continue        \n",
    "\n",
    "    #Write message1 to send\n",
    "    msg_box = driver.find_element_by_xpath('//*[@id=\"main\"]/footer/div[1]/div[2]/div/div[2]')\n",
    "    \n",
    "    msg_box.clear()\n",
    "    msg_box.send_keys(msg1, Keys.ENTER)\n",
    "\n",
    "\n",
    "    #Click on the \"send\" button\n",
    "    #button = driver.find_element_by_class_name('_3qpzV') \n",
    "    #_2Ujuu\n",
    "    #button.click()\n",
    "    \n",
    "    #Write message2 to send\n",
    "    msg_box = driver.find_element_by_xpath('//*[@id=\"main\"]/footer/div[1]/div[2]/div/div[2]')\n",
    "    msg_box.clear()\n",
    "    msg_box.send_keys(msg2, Keys.ENTER)\n",
    "    \n",
    "    time.sleep(2)\n",
    "    #Click on the \"send\" button\n",
    "    #button = driver.find_element_by_class_name('_3qpzV') \n",
    "    #_35EW6\n",
    "    #button.click()\n",
    "    \n",
    "    #Write message3 to send\n",
    "    msg_box = driver.find_element_by_xpath('//*[@id=\"main\"]/footer/div[1]/div[2]/div/div[2]')\n",
    "    msg_box.clear()\n",
    "    msg_box.send_keys(msg3, Keys.ENTER)\n",
    "    \n",
    "    #Click on the \"send\" button\n",
    "    #button = driver.find_element_by_class_name('_3qpzV') \n",
    "    #_35EW6\n",
    "    #button.click()\n",
    "    \n",
    "    time.sleep(1) #To avoid going too fast..."
   ]
  },
  {
   "cell_type": "code",
   "execution_count": 5,
   "metadata": {},
   "outputs": [
    {
     "name": "stdout",
     "output_type": "stream",
     "text": [
      "Rosalina Alves Rodrigues\n"
     ]
    }
   ],
   "source": [
    "print(i)"
   ]
  },
  {
   "cell_type": "code",
   "execution_count": 14,
   "metadata": {},
   "outputs": [
    {
     "name": "stdout",
     "output_type": "stream",
     "text": [
      "Mario Saraiva\n"
     ]
    }
   ],
   "source": [
    "newmsg = driver.find_element_by_class_name('_3Wrfs') \n",
    "newmsg.click()\n",
    "find = driver.find_element_by_class_name('_2Evw0')     \n",
    "find = driver.find_element_by_xpath('//*[@id=\"side\"]/div[1]/div/label/div/div[2]') \n",
    "\n",
    "find.send_keys(i)\n",
    "\n",
    "print(i)"
   ]
  }
 ],
 "metadata": {
  "kernelspec": {
   "display_name": "Python 3",
   "language": "python",
   "name": "python3"
  },
  "language_info": {
   "codemirror_mode": {
    "name": "ipython",
    "version": 3
   },
   "file_extension": ".py",
   "mimetype": "text/x-python",
   "name": "python",
   "nbconvert_exporter": "python",
   "pygments_lexer": "ipython3",
   "version": "3.8.3"
  }
 },
 "nbformat": 4,
 "nbformat_minor": 2
}
